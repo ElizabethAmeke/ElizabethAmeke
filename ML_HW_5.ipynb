{
  "nbformat": 4,
  "nbformat_minor": 0,
  "metadata": {
    "colab": {
      "provenance": [],
      "authorship_tag": "ABX9TyMPQlrRXT5If3jjx1Yh/v0w",
      "include_colab_link": true
    },
    "kernelspec": {
      "name": "python3",
      "display_name": "Python 3"
    },
    "language_info": {
      "name": "python"
    }
  },
  "cells": [
    {
      "cell_type": "markdown",
      "metadata": {
        "id": "view-in-github",
        "colab_type": "text"
      },
      "source": [
        "<a href=\"https://colab.research.google.com/github/ElizabethAmeke/ElizabethAmeke/blob/main/ML_HW_5.ipynb\" target=\"_parent\"><img src=\"https://colab.research.google.com/assets/colab-badge.svg\" alt=\"Open In Colab\"/></a>"
      ]
    },
    {
      "cell_type": "markdown",
      "source": [
        "ML_HOMEWORK_5<BR>\n",
        "ELIZABETH AMEKE<BR>\n",
        "662055975"
      ],
      "metadata": {
        "id": "yAGedaNQF7ZE"
      }
    },
    {
      "cell_type": "markdown",
      "source": [
        "Question_1<br>\n",
        "Construct a convolutional neural network model for classifying the CIFAR-10 dataset.\n",
        "Use the test set of the CIFAR-10 dataset as validation data for the model"
      ],
      "metadata": {
        "id": "jxKYIKHQGP0s"
      }
    },
    {
      "cell_type": "markdown",
      "source": [
        "\n",
        "(a) Implement the convolutional neural network architecture given below.<br>\n",
        "i. The first layer is a 2D convolutional layer with 64 filters, each of size (5, 5),\n",
        "and uses the ReLU activation function.<br>The input shape of the layer should\n",
        "correspond to the dimensions of the input image.<br>\n",
        "ii. The second layer is a max pooling layer of size (2, 2).<br>\n",
        "iii. The third layer is another 2D convolutional layer with 32 filters, each of size\n",
        "(3, 3), and uses the ReLU activation function.<br>\n",
        "iv. The fourth layer is another max pooling layer of size (2, 2).<br>\n",
        "v. The fifth layer is another 2D convolutional layer with 32 filters, each of size (3,\n",
        "3), and uses the ReLU activation function.<br>\n",
        "vi. The sixth layer is a flattened layer which converts the output of the previous\n",
        "layer into a one-dimensional vector.<br>\n",
        "vii. The seventh layer is a dense layer with 64 neurons and uses the ReLU activation\n",
        "function.<br>\n",
        "viii. The eighth and final layer produces estimated probabilities to classify the\n",
        "CIFAR-10 classes.<br>"
      ],
      "metadata": {
        "id": "rcE8ny1hGhk6"
      }
    },
    {
      "cell_type": "code",
      "execution_count": null,
      "metadata": {
        "id": "utDI8CccF45n"
      },
      "outputs": [],
      "source": []
    }
  ]
}